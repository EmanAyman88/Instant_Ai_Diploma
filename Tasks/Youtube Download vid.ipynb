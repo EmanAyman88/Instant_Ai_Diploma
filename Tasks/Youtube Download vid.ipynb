{
 "cells": [
  {
   "cell_type": "code",
   "execution_count": 4,
   "id": "06df7930",
   "metadata": {},
   "outputs": [
    {
     "name": "stdout",
     "output_type": "stream",
     "text": [
      "Download https://youtube.com/watch?v=h3-naWSga9I\n"
     ]
    }
   ],
   "source": [
    "import pytube\n",
    "from pytube import YouTube\n",
    "link =\"https://youtube.com/watch?v=h3-naWSga9I\"\n",
    "yt=pytube.YouTube(link)\n",
    "yt.streams.get_highest_resolution().download()\n",
    "print(\"Download\",link)"
   ]
  },
  {
   "cell_type": "code",
   "execution_count": 3,
   "id": "67ee466d",
   "metadata": {},
   "outputs": [
    {
     "ename": "AttributeError",
     "evalue": "'YouTube' object has no attribute 'set_filename'",
     "output_type": "error",
     "traceback": [
      "\u001b[1;31m---------------------------------------------------------------------------\u001b[0m",
      "\u001b[1;31mAttributeError\u001b[0m                            Traceback (most recent call last)",
      "\u001b[1;32m~\\AppData\\Local\\Temp\\ipykernel_1384\\826015022.py\u001b[0m in \u001b[0;36m<module>\u001b[1;34m\u001b[0m\n\u001b[0;32m     13\u001b[0m \u001b[1;33m\u001b[0m\u001b[0m\n\u001b[0;32m     14\u001b[0m \u001b[1;31m#to set the name of the file\u001b[0m\u001b[1;33m\u001b[0m\u001b[1;33m\u001b[0m\u001b[0m\n\u001b[1;32m---> 15\u001b[1;33m \u001b[0myt\u001b[0m\u001b[1;33m.\u001b[0m\u001b[0mset_filename\u001b[0m\u001b[1;33m(\u001b[0m\u001b[1;34m'python Video'\u001b[0m\u001b[1;33m)\u001b[0m\u001b[1;33m\u001b[0m\u001b[1;33m\u001b[0m\u001b[0m\n\u001b[0m\u001b[0;32m     16\u001b[0m \u001b[1;33m\u001b[0m\u001b[0m\n\u001b[0;32m     17\u001b[0m \u001b[1;31m# get the video with the extension and\u001b[0m\u001b[1;33m\u001b[0m\u001b[1;33m\u001b[0m\u001b[0m\n",
      "\u001b[1;31mAttributeError\u001b[0m: 'YouTube' object has no attribute 'set_filename'"
     ]
    }
   ],
   "source": []
  },
  {
   "cell_type": "code",
   "execution_count": null,
   "id": "34acd276",
   "metadata": {},
   "outputs": [],
   "source": []
  }
 ],
 "metadata": {
  "kernelspec": {
   "display_name": "Python 3 (ipykernel)",
   "language": "python",
   "name": "python3"
  },
  "language_info": {
   "codemirror_mode": {
    "name": "ipython",
    "version": 3
   },
   "file_extension": ".py",
   "mimetype": "text/x-python",
   "name": "python",
   "nbconvert_exporter": "python",
   "pygments_lexer": "ipython3",
   "version": "3.9.13"
  }
 },
 "nbformat": 4,
 "nbformat_minor": 5
}
