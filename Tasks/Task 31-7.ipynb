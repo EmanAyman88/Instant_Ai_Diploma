{
 "cells": [
  {
   "cell_type": "markdown",
   "id": "4e80903d",
   "metadata": {},
   "source": [
    "# Task 1 :"
   ]
  },
  {
   "cell_type": "markdown",
   "id": "f20f3eda",
   "metadata": {},
   "source": [
    "# 7 Best Computer Vision Libraries in Python"
   ]
  },
  {
   "cell_type": "markdown",
   "id": "6da8f655",
   "metadata": {},
   "source": [
    "Here is your list of the most popular computer vision libraries in Python."
   ]
  },
  {
   "cell_type": "markdown",
   "id": "c42a8210",
   "metadata": {},
   "source": [
    "# 1. OpenCV\n",
    "With over 2500 optimized image and video processing algorithms, OpenCV is one of the most widely used computer vision libraries for deploying computer vision applications. One can leverage various functions of the OpenCV library on Windows/Linux/Android/MacOS and with any of the popular programming languages like Java, Python, C++, etc.  Google, IBM, Microsoft, Toyota, and Intel are some top tech companies using OpenCV. \n",
    "\n",
    "Intel originally developed it, and it is open-sourced under the Apache 2 License. OpenCV has a library for statistical machine learning algorithms to better support various computer vision applications. Be it surveillance systems, robotics, automation, medical imaging, or augmented reality, OpenCV is a versatile computer vision library with some amazing functionalities spanning multiple domains. A few such applications are: Face Recognition, Object detection, and Image Classification.\n",
    " "
   ]
  },
  {
   "cell_type": "markdown",
   "id": "52926a0d",
   "metadata": {},
   "source": [
    "# 2. TensorFlow\n",
    "TensorFlow is an open-source platform used by over 9 million developers across the globe that supports the implementation of various algorithms behind computer vision projects. A team of researchers developed it at Google. It contains a Javascript library (TensorFlow.js) that trains and deploys models on the browser. It also supports the deployment of models on mobile and embedded devices. It is the backbone of various models in deep learning, such as BERT, Faster-RCNN, etc. Tensorflow has become a go-to choice for computer vision engineers because of its scalability, flexibility, and performance with support for multiple languages and platforms.\n",
    "\n",
    "Tensorflow can train some of the largest computer vision models, like ResNet and Google’s inception, with millions of parameters.\n",
    "\n"
   ]
  },
  {
   "cell_type": "markdown",
   "id": "bc1c142f",
   "metadata": {},
   "source": [
    "# 3. SimpleCV\n",
    "SimpleCV is an amazing open-source framework for implementing computer vision project ideas. It has been written in Python and provides users access to powerful computer vision libraries. This library is best suited for prototyping. It allows its users to leverage data in the form of video streams or images from IP cameras, webcams, KInects, or mobile phones. It is useful in building computer vision applications like Object detection, Image Segmentation, and Image arithmetic."
   ]
  },
  {
   "cell_type": "markdown",
   "id": "a0c24eab",
   "metadata": {},
   "source": [
    "# 4. Caffe \n",
    "Caffe is the short form for Convolutional Architecture for Fast Feature Embedding. It has been developed by researchers at the University of California, Berkeley, and is written in C++. It supports commonly used Deep learning algorithms like CNN, RCNN, and LSTM. It is best suited for projects on Image Classification and Segmentation.\n",
    "\n",
    "Use Caffe for computer vision tasks like real-time object detection and tracking that require fast processing. Caffe’s fast processing (speed) capabilities also make it a good choice for experimentation and prototyping. Caffe2 and Caffe2Mobile are the tools Caffe provides for deploying models to production."
   ]
  },
  {
   "cell_type": "markdown",
   "id": "4a4c94f3",
   "metadata": {},
   "source": [
    "# 5. PyTorch\n",
    "PyTorch is another open-source ML framework for building computer-vision-based solutions. It allows its users to move from research prototyping to production deployment. It has been primarily developed by researchers at Facebook’s AI Research group (FAIR). Along with Python, this library is also compatible with C++. It is best suited for solving problems related to Object Detection, Image Segmentation, Image classification, and Image estimation models.\n",
    "\n",
    "PyTorch uses a dynamic computational graph for more flexibility and faster experimentation when building and training computer vision models. "
   ]
  },
  {
   "cell_type": "markdown",
   "id": "d903424e",
   "metadata": {},
   "source": [
    "# 6. Keras\n",
    "Keras is one of the most popular libraries that is open source and is supported by a strong network of coders. It contains a framework that supports the comprehensive deployment of neural network algorithms. Its applications include Image Classification and segmentation, semantic image clustering, and 3D image classification"
   ]
  },
  {
   "cell_type": "markdown",
   "id": "bdb0e00d",
   "metadata": {},
   "source": [
    "# 7. Detectorn2\n",
    "This is another library that FAIR has developed to simplify the process of building computer vision applications such as object detection and segmentation. It contains the backend support required to implement deep learning algorithms like RetinaNet, Faster R-CNN, DensePose, and Mask R-CNN and more recent algorithms like TensorMask, Panoptic FPN, and Cascade R-CNN."
   ]
  },
  {
   "cell_type": "markdown",
   "id": "fd09b97f",
   "metadata": {},
   "source": [
    "# Task 2:"
   ]
  },
  {
   "cell_type": "code",
   "execution_count": null,
   "id": "d43ffc5f",
   "metadata": {},
   "outputs": [],
   "source": [
    "# importing libraries\n",
    "import cv2\n",
    "import numpy as np\n",
    "  \n",
    "# Create a VideoCapture object and read from input file\n",
    "cap = \n",
    "# Check if camera opened successfully\n",
    "if (cap.isOpened()== False):\n",
    "    print(\"Error opening video file\")\n",
    "  \n",
    "# Read until video is completed\n",
    "while(cap.isOpened()):\n",
    "      \n",
    "# Capture frame-by-frame\n",
    "    ret, frame = cap.read()\n",
    "    if ret == True:\n",
    "    # Display the resulting frame\n",
    "        cv2.imshow('Frame', frame)\n",
    "          \n",
    "    # Press Q on keyboard to exit\n",
    "        if cv2.waitKey(25) & 0xFF == ord('q'):\n",
    "            break\n",
    "  \n",
    "# Break the loop\n",
    "    else:\n",
    "        break\n",
    "  \n",
    "# When everything done, release\n",
    "# the video capture object\n",
    "cap.release()\n",
    "  \n",
    "# Closes all the frames\n",
    "cv2.destroyAllWindows()"
   ]
  }
 ],
 "metadata": {
  "kernelspec": {
   "display_name": "Python 3 (ipykernel)",
   "language": "python",
   "name": "python3"
  },
  "language_info": {
   "codemirror_mode": {
    "name": "ipython",
    "version": 3
   },
   "file_extension": ".py",
   "mimetype": "text/x-python",
   "name": "python",
   "nbconvert_exporter": "python",
   "pygments_lexer": "ipython3",
   "version": "3.9.13"
  }
 },
 "nbformat": 4,
 "nbformat_minor": 5
}
